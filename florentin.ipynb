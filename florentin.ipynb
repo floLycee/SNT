{
 "cells": [
  {
   "cell_type": "markdown",
   "metadata": {},
   "source": [
    "# Fichier CSV"
   ]
  },
  {
   "cell_type": "markdown",
   "metadata": {},
   "source": [
    "<font color='red'> Écrire votre nom </font>"
   ]
  },
  {
   "cell_type": "markdown",
   "metadata": {},
   "source": [
    "taillez florentin"
   ]
  },
  {
   "cell_type": "markdown",
   "metadata": {},
   "source": [
    "## Observation"
   ]
  },
  {
   "cell_type": "markdown",
   "metadata": {},
   "source": [
    "Les collections de données sont souvent des fichiers aux formats csv (comma separated values), c'est à dire des fichiers textes où les données sont séparées par des virgules.\n",
    "Ce qui donne par exemple :\n",
    "\n",
    "\"Prenom\",\"Nom\",\"Email\",\"Age\"<br>\n",
    "\"Jean\", \"Petit\", \"jean@monsite.fr\", \"34\"<br>\n",
    "\"Anne\", \"Le Gall\", \"anne@exemple.net\", \"21\"<br>\n",
    "\"Pierre\", \"Diawara\", \"pierre@sonsite.com\", \"44\"<br>\n"
   ]
  },
  {
   "cell_type": "markdown",
   "metadata": {},
   "source": [
    "## Ouverture"
   ]
  },
  {
   "cell_type": "markdown",
   "metadata": {},
   "source": [
    "1. <a href=\"https://drive.google.com/file/d/1TAZ4BXQc2mIQNdfaN-Kjb1zfbbX-bviS/view?usp=sharing\">\tTélécharger le fichier lycee.csv</a> et l’ouvrir avec Excel, que constatez-vous\n"
   ]
  },
  {
   "cell_type": "markdown",
   "metadata": {},
   "source": [
    "Réponse :"
   ]
  },
  {
   "cell_type": "markdown",
   "metadata": {},
   "source": [
    "2.\tOuvrir le maintenant avec Libre-office calc en choisisant un encodage en UTF-8 (pour un affichage normal des caractères accentués)\n",
    "\n",
    "<img src=\"https://raw.githubusercontent.com/floLycee/SNT/master/photo1.png\">\n",
    "\n",
    "Il s’agit de tous les établissements scolaires de France\n"
   ]
  },
  {
   "cell_type": "markdown",
   "metadata": {},
   "source": [
    "•\tQuels sont les descripteurs ?"
   ]
  },
  {
   "cell_type": "markdown",
   "metadata": {},
   "source": [
    "Réponse :"
   ]
  },
  {
   "cell_type": "markdown",
   "metadata": {},
   "source": [
    "•\tCombien d’établissements sont dans cette collection."
   ]
  },
  {
   "cell_type": "markdown",
   "metadata": {},
   "source": [
    "Réponse :"
   ]
  },
  {
   "cell_type": "markdown",
   "metadata": {},
   "source": [
    "•\tTrouver la ligne correspondant à votre lycée"
   ]
  },
  {
   "cell_type": "markdown",
   "metadata": {},
   "source": [
    "Réponse :"
   ]
  },
  {
   "cell_type": "markdown",
   "metadata": {},
   "source": [
    "•\tTrouver combien d’établissements se trouvent dans une ville de votre choix"
   ]
  },
  {
   "cell_type": "markdown",
   "metadata": {},
   "source": [
    "Réponse :"
   ]
  },
  {
   "cell_type": "markdown",
   "metadata": {},
   "source": [
    "## Programme"
   ]
  },
  {
   "cell_type": "code",
   "execution_count": 1,
   "metadata": {},
   "outputs": [
    {
     "name": "stdout",
     "output_type": "stream",
     "text": [
      "Les descripteurs de la collection des établissements scolaires :\n",
      "numero_uai,appellation_officielle,denomination_principale,patronyme_uai,secteur_public_prive_libe,adresse_uai,lieu_dit_uai,boite_postale_uai,code_postal_uai,localite_acheminement_uai,coordonnee_x,coordonnee_y,appariement,localisation,nature_uai,nature_uai_libe,etat_etablissement,,,,,,,\n",
      "\n",
      "['0830032J', 'Lycée Polyvalent de Lorgues Thomas Edison', 'LYCEE POLYVALENT', 'DE LORGUES - THOMAS EDISON', 'Public', '1 RUE EMILE HERAUD', '', '', '83510', 'LORGUES', '971480', '3', '6271751', '7', 'MANUEL', 'BATIMENT', '306', 'Lycée polyvalent', '1', '', '', '', '', '']\n"
     ]
    }
   ],
   "source": [
    "import csv\n",
    "\n",
    "# chargement du fichier txt en utilisant la biblio csv\n",
    "with open('lycee2.csv','r', encoding='utf-8') as f:\n",
    "    premiere_ligne = f.readline()\n",
    "    print(\"Les descripteurs de la collection des établissements scolaires :\")\n",
    "    print(premiere_ligne)\n",
    "    dialecte_fichier_csv = csv.Sniffer().sniff(premiere_ligne)\n",
    "    data_lignes = list(csv.reader(f, dialect=dialecte_fichier_csv))\n",
    "\n",
    "# on met le tout dans une liste\n",
    "liste=[]\n",
    "for ligne in data_lignes:\n",
    "    liste.append(ligne)\n",
    "\n",
    "#print(liste[1])\n",
    "# on parcourt la liste en recherchant le n° uai de notre lycée\n",
    "for el in liste:\n",
    "    if el[0]==\"0830032J\":\n",
    "        print(el)\n",
    "   "
   ]
  },
  {
   "cell_type": "markdown",
   "metadata": {},
   "source": [
    "Que constatez-vous ?"
   ]
  },
  {
   "cell_type": "markdown",
   "metadata": {},
   "source": [
    "Réponse :"
   ]
  },
  {
   "cell_type": "markdown",
   "metadata": {},
   "source": [
    "1.\tModifier le programme pour afficher l’adresse au complet de notre lycée (la ville se trouve à el[9])."
   ]
  },
  {
   "cell_type": "code",
   "execution_count": 18,
   "metadata": {},
   "outputs": [
    {
     "name": "stdout",
     "output_type": "stream",
     "text": [
      "Les descripteurs de la collection des établissements scolaires :\n",
      "numero_uai,appellation_officielle,denomination_principale,patronyme_uai,secteur_public_prive_libe,adresse_uai,lieu_dit_uai,boite_postale_uai,code_postal_uai,localite_acheminement_uai,coordonnee_x,coordonnee_y,appariement,localisation,nature_uai,nature_uai_libe,etat_etablissement,,,,,,,\n",
      "\n",
      "LYCEE POLYVALENT\n",
      "1 RUE EMILE HERAUD\n",
      "83510 LORGUES\n"
     ]
    }
   ],
   "source": [
    "import csv\n",
    "\n",
    "# chargement du fichier txt en utilisant la biblio csv\n",
    "with open('lycee2.csv','r', encoding='utf-8') as f:\n",
    "    premiere_ligne = f.readline()\n",
    "    print(\"Les descripteurs de la collection des établissements scolaires :\")\n",
    "    print(premiere_ligne)\n",
    "    dialecte_fichier_csv = csv.Sniffer().sniff(premiere_ligne)\n",
    "    data_lignes = list(csv.reader(f, dialect=dialecte_fichier_csv))\n",
    "\n",
    "# on met le tout dans une liste\n",
    "liste=[]\n",
    "for ligne in data_lignes:\n",
    "    liste.append(ligne)\n",
    "\n",
    "#print(liste[1])\n",
    "# on parcourt la liste en recherchant le n° uai de notre lycée\n",
    "for el in liste:\n",
    "    if el[0]==\"0830032J\":\n",
    "        print(el[2])\n",
    "        print(el[5])\n",
    "        print(el[8], el[9])\n",
    "        "
   ]
  },
  {
   "cell_type": "markdown",
   "metadata": {},
   "source": [
    "2.\tSi on ne connait pas le numéro RNE\n",
    "\n",
    "On accède à la ville avec el[9]\n",
    "Le code ci-dessous :<br>\n",
    "•\tdemande à l'utilisateur le nom d'une ville<br>\n",
    "•\taffiche le numéro uai des établissements scolaires de cette ville<br>\n"
   ]
  },
  {
   "cell_type": "code",
   "execution_count": 3,
   "metadata": {},
   "outputs": [
    {
     "name": "stdout",
     "output_type": "stream",
     "text": [
      "Les descripteurs de la collection des établissements scolaires :\n",
      "numero_uai,appellation_officielle,denomination_principale,patronyme_uai,secteur_public_prive_libe,adresse_uai,lieu_dit_uai,boite_postale_uai,code_postal_uai,localite_acheminement_uai,coordonnee_x,coordonnee_y,appariement,localisation,nature_uai,nature_uai_libe,etat_etablissement,,,,,,,\n",
      "\n",
      "Entrez un nom de ville:lorgues\n",
      "================================================\n",
      "['0300562Y', 'Ecole primaire', 'ECOLE ELEMENTAIRE PUBLIQUE', '', 'Public', 'CHEMIN DES AIRES', '', '', '30114', 'NAGES ET SOLORGUES', '799094', '5', '6299918', '5', 'MANUEL', 'BATIMENT', '151', 'Ecole élémentaire', '1', '', '', '', '', '']\n",
      "================================================\n",
      "['0301587M', 'Ecole maternelle', 'ECOLE ELEMENTAIRE PUBLIQUE', '', 'Public', 'CHEMIN CANETS', '', '', '30190', 'COLLORGUES', '803338', '1', '6323736', '3', 'MANUEL', 'BATIMENT', '151', 'Ecole élémentaire', '1', '', '', '', '', '']\n",
      "================================================\n",
      "['0830032J', 'Lycée Polyvalent de Lorgues Thomas Edison', 'LYCEE POLYVALENT', 'DE LORGUES - THOMAS EDISON', 'Public', '1 RUE EMILE HERAUD', '', '', '83510', 'LORGUES', '971480', '3', '6271751', '7', 'MANUEL', 'BATIMENT', '306', 'Lycée polyvalent', '1', '', '', '', '', '']\n",
      "================================================\n",
      "['0830076G', 'Collège de Lorgues Thomas Edison', 'COLLEGE', 'DE LORGUES THOMAS EDISON', 'Public', '1 RUE EMILE HERAUD', '', '', '83510', 'LORGUES', '971423', '2', '6271654', '7', 'MANUEL', 'BATIMENT', '340', 'Collège', '1', '', '', '', '', '']\n",
      "================================================\n",
      "['0830220N', 'Ecole maternelle André Negrel', 'ECOLE MATERNELLE PUBLIQUE', 'ANDRE NEGREL', 'Public', '2 AVENUE DE TOULON', '', '', '83510', 'LORGUES', '971616', '6', '6271628', 'MANUEL', 'BATIMENT', '101', 'Ecole maternelle', '1', '', '', '', '', '', '']\n",
      "================================================\n",
      "['0831321K', 'Ecole maternelle Emile Zola', 'ECOLE MATERNELLE PUBLIQUE', 'EMILE ZOLA', 'Public', 'PLACE DES FERRAGES', '', '92', '83510', 'LORGUES', '971697', '6271725', 'MANUEL', 'BATIMENT', '101', 'Ecole maternelle', '1', '', '', '', '', '', '', '']\n",
      "================================================\n",
      "['0831460L', 'Ecole primaire Emile Zola', 'ECOLE ELEMENTAIRE PUBLIQUE', 'EMILE ZOLA', 'Public', 'PLACE DES FERRAGES', '', '', '83510', 'LORGUES', '971663', '4', '6271727', '4', 'MANUEL', 'BATIMENT', '151', 'Ecole élémentaire', '1', '', '', '', '', '']\n",
      "================================================\n",
      "['0831461M', 'Ecole primaire Marius Trussy', 'ECOLE ELEMENTAIRE PUBLIQUE', 'MARIUS TRUSSY', 'Public', '7 RUE DE VERDUN', '', '91', '83510', 'LORGUES', '971744', '1', '6271856', 'MANUEL', 'BATIMENT', '151', 'Ecole élémentaire', '1', '', '', '', '', '', '']\n",
      "================================================\n",
      "['0831694R', \"Section d'enseignement professionnel du lpo de Lorgues Thomas Edison\", 'SECTION ENSEIGNT PROFESSIONNEL', 'LPO DE LORGUES THOMAS EDISON', 'Public', '1  RUE EMILE HERAUD', '', '', '83510', 'LORGUES', '971496', '6', '6271758', '9', 'MANUEL', 'BATIMENT', '334', \"Section d'enseignement professionnel\", '1', '', '', '', '', '']\n"
     ]
    }
   ],
   "source": [
    "import csv\n",
    "\n",
    "# chargement du fichier txt en utilisant la biblio csv\n",
    "with open('lycee2.csv','r', encoding='utf-8') as f:\n",
    "    premiere_ligne = f.readline()\n",
    "    print(\"Les descripteurs de la collection des établissements scolaires :\")\n",
    "    print(premiere_ligne)\n",
    "    dialecte_fichier_csv = csv.Sniffer().sniff(premiere_ligne)\n",
    "    data_lignes = list(csv.reader(f, dialect=dialecte_fichier_csv))\n",
    "\n",
    "# on met le tout dans une liste\n",
    "liste=[]\n",
    "for ligne in data_lignes:\n",
    "    liste.append(ligne)\n",
    "\n",
    "s=input('Entrez un nom de ville:')\n",
    "\n",
    "s=s.upper()\n",
    "# On parcourt la liste et si le nom de la ville est dans el[9], on affiche les résultats\n",
    "for el in liste:\n",
    "    if s  in el[9]:\n",
    "        print(\"================================================\")\n",
    "        print(el)\n"
   ]
  },
  {
   "cell_type": "markdown",
   "metadata": {},
   "source": [
    "Modifier le programme pour afficher les adresses complètes de tous les établissements d’une ville\n"
   ]
  },
  {
   "cell_type": "code",
   "execution_count": 4,
   "metadata": {},
   "outputs": [],
   "source": [
    "# Écrire le calcul ici"
   ]
  },
  {
   "cell_type": "markdown",
   "metadata": {},
   "source": [
    "Pour enregistrer, cliquer sur Download puis le renommer le fichier sous la forme : <br>\n",
    "donnees_TP1_NOM_Prenom.ipynb"
   ]
  }
 ],
 "metadata": {
  "kernelspec": {
   "display_name": "Python 3",
   "language": "python",
   "name": "python3"
  },
  "language_info": {
   "codemirror_mode": {
    "name": "ipython",
    "version": 3
   },
   "file_extension": ".py",
   "mimetype": "text/x-python",
   "name": "python",
   "nbconvert_exporter": "python",
   "pygments_lexer": "ipython3",
   "version": "3.7.8"
  }
 },
 "nbformat": 4,
 "nbformat_minor": 4
}
